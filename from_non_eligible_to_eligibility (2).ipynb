{
  "nbformat": 4,
  "nbformat_minor": 0,
  "metadata": {
    "colab": {
      "provenance": []
    },
    "kernelspec": {
      "name": "python3",
      "display_name": "Python 3"
    },
    "language_info": {
      "name": "python"
    }
  },
  "cells": [
    {
      "cell_type": "code",
      "execution_count": null,
      "metadata": {
        "colab": {
          "base_uri": "https://localhost:8080/",
          "height": 1000
        },
        "id": "GN9-Oh2Ww1R0",
        "outputId": "5a0eb033-10c1-469f-e964-4337a1958413"
      },
      "outputs": [
        {
          "output_type": "stream",
          "name": "stdout",
          "text": [
            "📂 Please upload your dataset...\n"
          ]
        },
        {
          "output_type": "display_data",
          "data": {
            "text/plain": [
              "<IPython.core.display.HTML object>"
            ],
            "text/html": [
              "\n",
              "     <input type=\"file\" id=\"files-e874a54b-dd2c-4d0c-961e-d3e678358fa4\" name=\"files[]\" multiple disabled\n",
              "        style=\"border:none\" />\n",
              "     <output id=\"result-e874a54b-dd2c-4d0c-961e-d3e678358fa4\">\n",
              "      Upload widget is only available when the cell has been executed in the\n",
              "      current browser session. Please rerun this cell to enable.\n",
              "      </output>\n",
              "      <script>// Copyright 2017 Google LLC\n",
              "//\n",
              "// Licensed under the Apache License, Version 2.0 (the \"License\");\n",
              "// you may not use this file except in compliance with the License.\n",
              "// You may obtain a copy of the License at\n",
              "//\n",
              "//      http://www.apache.org/licenses/LICENSE-2.0\n",
              "//\n",
              "// Unless required by applicable law or agreed to in writing, software\n",
              "// distributed under the License is distributed on an \"AS IS\" BASIS,\n",
              "// WITHOUT WARRANTIES OR CONDITIONS OF ANY KIND, either express or implied.\n",
              "// See the License for the specific language governing permissions and\n",
              "// limitations under the License.\n",
              "\n",
              "/**\n",
              " * @fileoverview Helpers for google.colab Python module.\n",
              " */\n",
              "(function(scope) {\n",
              "function span(text, styleAttributes = {}) {\n",
              "  const element = document.createElement('span');\n",
              "  element.textContent = text;\n",
              "  for (const key of Object.keys(styleAttributes)) {\n",
              "    element.style[key] = styleAttributes[key];\n",
              "  }\n",
              "  return element;\n",
              "}\n",
              "\n",
              "// Max number of bytes which will be uploaded at a time.\n",
              "const MAX_PAYLOAD_SIZE = 100 * 1024;\n",
              "\n",
              "function _uploadFiles(inputId, outputId) {\n",
              "  const steps = uploadFilesStep(inputId, outputId);\n",
              "  const outputElement = document.getElementById(outputId);\n",
              "  // Cache steps on the outputElement to make it available for the next call\n",
              "  // to uploadFilesContinue from Python.\n",
              "  outputElement.steps = steps;\n",
              "\n",
              "  return _uploadFilesContinue(outputId);\n",
              "}\n",
              "\n",
              "// This is roughly an async generator (not supported in the browser yet),\n",
              "// where there are multiple asynchronous steps and the Python side is going\n",
              "// to poll for completion of each step.\n",
              "// This uses a Promise to block the python side on completion of each step,\n",
              "// then passes the result of the previous step as the input to the next step.\n",
              "function _uploadFilesContinue(outputId) {\n",
              "  const outputElement = document.getElementById(outputId);\n",
              "  const steps = outputElement.steps;\n",
              "\n",
              "  const next = steps.next(outputElement.lastPromiseValue);\n",
              "  return Promise.resolve(next.value.promise).then((value) => {\n",
              "    // Cache the last promise value to make it available to the next\n",
              "    // step of the generator.\n",
              "    outputElement.lastPromiseValue = value;\n",
              "    return next.value.response;\n",
              "  });\n",
              "}\n",
              "\n",
              "/**\n",
              " * Generator function which is called between each async step of the upload\n",
              " * process.\n",
              " * @param {string} inputId Element ID of the input file picker element.\n",
              " * @param {string} outputId Element ID of the output display.\n",
              " * @return {!Iterable<!Object>} Iterable of next steps.\n",
              " */\n",
              "function* uploadFilesStep(inputId, outputId) {\n",
              "  const inputElement = document.getElementById(inputId);\n",
              "  inputElement.disabled = false;\n",
              "\n",
              "  const outputElement = document.getElementById(outputId);\n",
              "  outputElement.innerHTML = '';\n",
              "\n",
              "  const pickedPromise = new Promise((resolve) => {\n",
              "    inputElement.addEventListener('change', (e) => {\n",
              "      resolve(e.target.files);\n",
              "    });\n",
              "  });\n",
              "\n",
              "  const cancel = document.createElement('button');\n",
              "  inputElement.parentElement.appendChild(cancel);\n",
              "  cancel.textContent = 'Cancel upload';\n",
              "  const cancelPromise = new Promise((resolve) => {\n",
              "    cancel.onclick = () => {\n",
              "      resolve(null);\n",
              "    };\n",
              "  });\n",
              "\n",
              "  // Wait for the user to pick the files.\n",
              "  const files = yield {\n",
              "    promise: Promise.race([pickedPromise, cancelPromise]),\n",
              "    response: {\n",
              "      action: 'starting',\n",
              "    }\n",
              "  };\n",
              "\n",
              "  cancel.remove();\n",
              "\n",
              "  // Disable the input element since further picks are not allowed.\n",
              "  inputElement.disabled = true;\n",
              "\n",
              "  if (!files) {\n",
              "    return {\n",
              "      response: {\n",
              "        action: 'complete',\n",
              "      }\n",
              "    };\n",
              "  }\n",
              "\n",
              "  for (const file of files) {\n",
              "    const li = document.createElement('li');\n",
              "    li.append(span(file.name, {fontWeight: 'bold'}));\n",
              "    li.append(span(\n",
              "        `(${file.type || 'n/a'}) - ${file.size} bytes, ` +\n",
              "        `last modified: ${\n",
              "            file.lastModifiedDate ? file.lastModifiedDate.toLocaleDateString() :\n",
              "                                    'n/a'} - `));\n",
              "    const percent = span('0% done');\n",
              "    li.appendChild(percent);\n",
              "\n",
              "    outputElement.appendChild(li);\n",
              "\n",
              "    const fileDataPromise = new Promise((resolve) => {\n",
              "      const reader = new FileReader();\n",
              "      reader.onload = (e) => {\n",
              "        resolve(e.target.result);\n",
              "      };\n",
              "      reader.readAsArrayBuffer(file);\n",
              "    });\n",
              "    // Wait for the data to be ready.\n",
              "    let fileData = yield {\n",
              "      promise: fileDataPromise,\n",
              "      response: {\n",
              "        action: 'continue',\n",
              "      }\n",
              "    };\n",
              "\n",
              "    // Use a chunked sending to avoid message size limits. See b/62115660.\n",
              "    let position = 0;\n",
              "    do {\n",
              "      const length = Math.min(fileData.byteLength - position, MAX_PAYLOAD_SIZE);\n",
              "      const chunk = new Uint8Array(fileData, position, length);\n",
              "      position += length;\n",
              "\n",
              "      const base64 = btoa(String.fromCharCode.apply(null, chunk));\n",
              "      yield {\n",
              "        response: {\n",
              "          action: 'append',\n",
              "          file: file.name,\n",
              "          data: base64,\n",
              "        },\n",
              "      };\n",
              "\n",
              "      let percentDone = fileData.byteLength === 0 ?\n",
              "          100 :\n",
              "          Math.round((position / fileData.byteLength) * 100);\n",
              "      percent.textContent = `${percentDone}% done`;\n",
              "\n",
              "    } while (position < fileData.byteLength);\n",
              "  }\n",
              "\n",
              "  // All done.\n",
              "  yield {\n",
              "    response: {\n",
              "      action: 'complete',\n",
              "    }\n",
              "  };\n",
              "}\n",
              "\n",
              "scope.google = scope.google || {};\n",
              "scope.google.colab = scope.google.colab || {};\n",
              "scope.google.colab._files = {\n",
              "  _uploadFiles,\n",
              "  _uploadFilesContinue,\n",
              "};\n",
              "})(self);\n",
              "</script> "
            ]
          },
          "metadata": {}
        },
        {
          "output_type": "stream",
          "name": "stdout",
          "text": [
            "Saving holidays.csv to holidays (1).csv\n"
          ]
        },
        {
          "output_type": "stream",
          "name": "stderr",
          "text": [
            "[I 2025-02-25 11:07:19,898] A new study created in memory with name: no-name-3180d940-0e0e-4daf-9bd9-1353c42be213\n"
          ]
        },
        {
          "output_type": "stream",
          "name": "stdout",
          "text": [
            "Best GridSearchCV Parameters: {'learning_rate': 0.2, 'max_depth': 7, 'n_estimators': 200}\n",
            "Best GridSearchCV Accuracy: 0.9967939360191205\n"
          ]
        },
        {
          "output_type": "stream",
          "name": "stderr",
          "text": [
            "[I 2025-02-25 11:07:21,516] Trial 0 finished with value: 0.9645888167979528 and parameters: {'learning_rate': 0.09698533270228862, 'max_depth': 4, 'n_estimators': 147}. Best is trial 0 with value: 0.9645888167979528.\n",
            "[I 2025-02-25 11:07:29,620] Trial 1 finished with value: 0.9967939527036187 and parameters: {'learning_rate': 0.07061469832580178, 'max_depth': 8, 'n_estimators': 296}. Best is trial 1 with value: 0.9967939527036187.\n",
            "[I 2025-02-25 11:07:30,699] Trial 2 finished with value: 0.9477211895213008 and parameters: {'learning_rate': 0.18782688977180656, 'max_depth': 3, 'n_estimators': 113}. Best is trial 1 with value: 0.9967939527036187.\n",
            "[I 2025-02-25 11:07:32,127] Trial 3 finished with value: 0.9950898105683784 and parameters: {'learning_rate': 0.21415167194047413, 'max_depth': 6, 'n_estimators': 82}. Best is trial 1 with value: 0.9967939527036187.\n",
            "[I 2025-02-25 11:07:35,042] Trial 4 finished with value: 0.9925191548467425 and parameters: {'learning_rate': 0.11461559400632915, 'max_depth': 4, 'n_estimators': 290}. Best is trial 1 with value: 0.9967939527036187.\n",
            "[I 2025-02-25 11:07:36,662] Trial 5 finished with value: 0.8974061778525799 and parameters: {'learning_rate': 0.03386462639224751, 'max_depth': 6, 'n_estimators': 91}. Best is trial 1 with value: 0.9967939527036187.\n",
            "[I 2025-02-25 11:07:38,795] Trial 6 finished with value: 0.9963317962739344 and parameters: {'learning_rate': 0.23041045855466324, 'max_depth': 5, 'n_estimators': 164}. Best is trial 1 with value: 0.9967939527036187.\n",
            "[I 2025-02-25 11:07:48,478] Trial 7 finished with value: 0.9970250204906493 and parameters: {'learning_rate': 0.2812716957997949, 'max_depth': 10, 'n_estimators': 227}. Best is trial 7 with value: 0.9970250204906493.\n",
            "[I 2025-02-25 11:07:51,874] Trial 8 finished with value: 0.9969961312819743 and parameters: {'learning_rate': 0.28553668808098714, 'max_depth': 9, 'n_estimators': 180}. Best is trial 7 with value: 0.9970250204906493.\n",
            "[I 2025-02-25 11:07:52,978] Trial 9 finished with value: 0.9367453465891671 and parameters: {'learning_rate': 0.07797754216066025, 'max_depth': 5, 'n_estimators': 73}. Best is trial 7 with value: 0.9970250204906493.\n",
            "/usr/local/lib/python3.11/dist-packages/keras/src/layers/core/dense.py:87: UserWarning: Do not pass an `input_shape`/`input_dim` argument to a layer. When using Sequential models, prefer using an `Input(shape)` object as the first layer in the model instead.\n",
            "  super().__init__(activity_regularizer=activity_regularizer, **kwargs)\n"
          ]
        },
        {
          "output_type": "stream",
          "name": "stdout",
          "text": [
            "Best Optuna Parameters: {'learning_rate': 0.2812716957997949, 'max_depth': 10, 'n_estimators': 227}\n",
            "Best Optuna Accuracy: 0.9970250204906493\n",
            "Epoch 1/20\n",
            "\u001b[1m1082/1082\u001b[0m \u001b[32m━━━━━━━━━━━━━━━━━━━━\u001b[0m\u001b[37m\u001b[0m \u001b[1m5s\u001b[0m 3ms/step - accuracy: 0.6594 - loss: 0.6097 - val_accuracy: 0.6893 - val_loss: 0.5588\n",
            "Epoch 2/20\n",
            "\u001b[1m1082/1082\u001b[0m \u001b[32m━━━━━━━━━━━━━━━━━━━━\u001b[0m\u001b[37m\u001b[0m \u001b[1m3s\u001b[0m 2ms/step - accuracy: 0.6877 - loss: 0.5677 - val_accuracy: 0.7030 - val_loss: 0.5347\n",
            "Epoch 3/20\n",
            "\u001b[1m1082/1082\u001b[0m \u001b[32m━━━━━━━━━━━━━━━━━━━━\u001b[0m\u001b[37m\u001b[0m \u001b[1m5s\u001b[0m 3ms/step - accuracy: 0.7011 - loss: 0.5504 - val_accuracy: 0.7332 - val_loss: 0.5080\n",
            "Epoch 4/20\n",
            "\u001b[1m1082/1082\u001b[0m \u001b[32m━━━━━━━━━━━━━━━━━━━━\u001b[0m\u001b[37m\u001b[0m \u001b[1m5s\u001b[0m 3ms/step - accuracy: 0.7193 - loss: 0.5266 - val_accuracy: 0.7569 - val_loss: 0.4758\n",
            "Epoch 5/20\n",
            "\u001b[1m1082/1082\u001b[0m \u001b[32m━━━━━━━━━━━━━━━━━━━━\u001b[0m\u001b[37m\u001b[0m \u001b[1m5s\u001b[0m 3ms/step - accuracy: 0.7330 - loss: 0.5074 - val_accuracy: 0.7842 - val_loss: 0.4482\n",
            "Epoch 6/20\n",
            "\u001b[1m1082/1082\u001b[0m \u001b[32m━━━━━━━━━━━━━━━━━━━━\u001b[0m\u001b[37m\u001b[0m \u001b[1m3s\u001b[0m 3ms/step - accuracy: 0.7503 - loss: 0.4882 - val_accuracy: 0.7869 - val_loss: 0.4231\n",
            "Epoch 7/20\n",
            "\u001b[1m1082/1082\u001b[0m \u001b[32m━━━━━━━━━━━━━━━━━━━━\u001b[0m\u001b[37m\u001b[0m \u001b[1m5s\u001b[0m 3ms/step - accuracy: 0.7653 - loss: 0.4706 - val_accuracy: 0.8081 - val_loss: 0.4091\n",
            "Epoch 8/20\n",
            "\u001b[1m1082/1082\u001b[0m \u001b[32m━━━━━━━━━━━━━━━━━━━━\u001b[0m\u001b[37m\u001b[0m \u001b[1m5s\u001b[0m 3ms/step - accuracy: 0.7725 - loss: 0.4547 - val_accuracy: 0.8275 - val_loss: 0.3859\n",
            "Epoch 9/20\n",
            "\u001b[1m1082/1082\u001b[0m \u001b[32m━━━━━━━━━━━━━━━━━━━━\u001b[0m\u001b[37m\u001b[0m \u001b[1m5s\u001b[0m 3ms/step - accuracy: 0.7841 - loss: 0.4377 - val_accuracy: 0.8303 - val_loss: 0.3751\n",
            "Epoch 10/20\n",
            "\u001b[1m1082/1082\u001b[0m \u001b[32m━━━━━━━━━━━━━━━━━━━━\u001b[0m\u001b[37m\u001b[0m \u001b[1m3s\u001b[0m 3ms/step - accuracy: 0.7906 - loss: 0.4327 - val_accuracy: 0.8529 - val_loss: 0.3572\n",
            "Epoch 11/20\n",
            "\u001b[1m1082/1082\u001b[0m \u001b[32m━━━━━━━━━━━━━━━━━━━━\u001b[0m\u001b[37m\u001b[0m \u001b[1m5s\u001b[0m 3ms/step - accuracy: 0.7972 - loss: 0.4188 - val_accuracy: 0.8610 - val_loss: 0.3440\n",
            "Epoch 12/20\n",
            "\u001b[1m1082/1082\u001b[0m \u001b[32m━━━━━━━━━━━━━━━━━━━━\u001b[0m\u001b[37m\u001b[0m \u001b[1m5s\u001b[0m 3ms/step - accuracy: 0.8031 - loss: 0.4128 - val_accuracy: 0.8655 - val_loss: 0.3309\n",
            "Epoch 13/20\n",
            "\u001b[1m1082/1082\u001b[0m \u001b[32m━━━━━━━━━━━━━━━━━━━━\u001b[0m\u001b[37m\u001b[0m \u001b[1m3s\u001b[0m 3ms/step - accuracy: 0.8058 - loss: 0.4099 - val_accuracy: 0.8670 - val_loss: 0.3240\n",
            "Epoch 14/20\n",
            "\u001b[1m1082/1082\u001b[0m \u001b[32m━━━━━━━━━━━━━━━━━━━━\u001b[0m\u001b[37m\u001b[0m \u001b[1m6s\u001b[0m 3ms/step - accuracy: 0.8176 - loss: 0.3930 - val_accuracy: 0.8755 - val_loss: 0.3092\n",
            "Epoch 15/20\n",
            "\u001b[1m1082/1082\u001b[0m \u001b[32m━━━━━━━━━━━━━━━━━━━━\u001b[0m\u001b[37m\u001b[0m \u001b[1m3s\u001b[0m 3ms/step - accuracy: 0.8184 - loss: 0.3861 - val_accuracy: 0.8758 - val_loss: 0.3040\n",
            "Epoch 16/20\n",
            "\u001b[1m1082/1082\u001b[0m \u001b[32m━━━━━━━━━━━━━━━━━━━━\u001b[0m\u001b[37m\u001b[0m \u001b[1m5s\u001b[0m 3ms/step - accuracy: 0.8259 - loss: 0.3768 - val_accuracy: 0.8883 - val_loss: 0.2962\n",
            "Epoch 17/20\n",
            "\u001b[1m1082/1082\u001b[0m \u001b[32m━━━━━━━━━━━━━━━━━━━━\u001b[0m\u001b[37m\u001b[0m \u001b[1m3s\u001b[0m 3ms/step - accuracy: 0.8271 - loss: 0.3751 - val_accuracy: 0.8901 - val_loss: 0.2958\n",
            "Epoch 18/20\n",
            "\u001b[1m1082/1082\u001b[0m \u001b[32m━━━━━━━━━━━━━━━━━━━━\u001b[0m\u001b[37m\u001b[0m \u001b[1m4s\u001b[0m 3ms/step - accuracy: 0.8302 - loss: 0.3738 - val_accuracy: 0.8875 - val_loss: 0.2775\n",
            "Epoch 19/20\n",
            "\u001b[1m1082/1082\u001b[0m \u001b[32m━━━━━━━━━━━━━━━━━━━━\u001b[0m\u001b[37m\u001b[0m \u001b[1m4s\u001b[0m 3ms/step - accuracy: 0.8325 - loss: 0.3664 - val_accuracy: 0.8946 - val_loss: 0.2755\n",
            "Epoch 20/20\n",
            "\u001b[1m1082/1082\u001b[0m \u001b[32m━━━━━━━━━━━━━━━━━━━━\u001b[0m\u001b[37m\u001b[0m \u001b[1m4s\u001b[0m 3ms/step - accuracy: 0.8361 - loss: 0.3607 - val_accuracy: 0.8993 - val_loss: 0.2744\n",
            "\u001b[1m271/271\u001b[0m \u001b[32m━━━━━━━━━━━━━━━━━━━━\u001b[0m\u001b[37m\u001b[0m \u001b[1m0s\u001b[0m 2ms/step - accuracy: 0.9016 - loss: 0.2717\n",
            "ANN Test Accuracy: 89.93%\n",
            "ANN Training Time: 1.45 minutes\n",
            "\u001b[1m271/271\u001b[0m \u001b[32m━━━━━━━━━━━━━━━━━━━━\u001b[0m\u001b[37m\u001b[0m \u001b[1m1s\u001b[0m 2ms/step\n",
            "McNemar’s Test Confusion Matrix:\n",
            " [[3657  676]\n",
            " [ 193 4130]]\n",
            "McNemar’s Test P-value: 0.00000\n",
            "Paired t-test: t=-16.644, p=0.00000\n",
            "\n",
            "Final Comparison of Models:\n",
            "Optimized XGBoost Accuracy: 99.68%\n",
            "Optimized XGBoost (Optuna) Accuracy: 99.70%\n",
            "ANN Accuracy: 89.93%\n",
            "McNemar’s Test P-value: 0.00000 (Significance if p < 0.05)\n",
            "Paired t-test P-value: 0.00000 (Significance if p < 0.05)\n"
          ]
        }
      ],
      "source": [
        "import pandas as pd\n",
        "import numpy as np\n",
        "import time\n",
        "import matplotlib.pyplot as plt\n",
        "import seaborn as sns\n",
        "from sklearn.ensemble import RandomForestClassifier\n",
        "from xgboost import XGBClassifier\n",
        "from sklearn.model_selection import train_test_split, GridSearchCV, StratifiedKFold, cross_val_score\n",
        "from sklearn.preprocessing import StandardScaler\n",
        "from sklearn.metrics import accuracy_score, classification_report, confusion_matrix\n",
        "import tensorflow as tf\n",
        "from tensorflow import keras\n",
        "from tensorflow.keras.models import Sequential\n",
        "from tensorflow.keras.layers import Dense, Dropout\n",
        "from scipy.stats import ttest_rel\n",
        "from statsmodels.stats.contingency_tables import mcnemar\n",
        "import optuna\n",
        "\n",
        "# Step 1: Upload Dataset\n",
        "print(\"📂 Please upload your dataset...\")\n",
        "from google.colab import files\n",
        "uploaded = files.upload()\n",
        "file_name = list(uploaded.keys())[0]\n",
        "df = pd.read_csv(file_name)\n",
        "\n",
        "# Step 2: Preprocess Data\n",
        "target_column = \"Result\"\n",
        "X = df.drop(columns=[target_column])\n",
        "y = df[target_column]\n",
        "\n",
        "# Standardize features\n",
        "scaler = StandardScaler()\n",
        "X_scaled = scaler.fit_transform(X)\n",
        "\n",
        "# Split into train and test sets\n",
        "X_train, X_test, y_train, y_test = train_test_split(X_scaled, y, test_size=0.2, random_state=42, stratify=y)\n",
        "\n",
        "# Step 3: Hyperparameter Optimization (GridSearchCV)\n",
        "param_grid = {\n",
        "    \"learning_rate\": [0.01, 0.1, 0.2],\n",
        "    \"max_depth\": [3, 5, 7],\n",
        "    \"n_estimators\": [50, 100, 200]\n",
        "}\n",
        "\n",
        "xgb = XGBClassifier(eval_metric=\"logloss\")  # Removed deprecated use_label_encoder=False\n",
        "grid_search = GridSearchCV(xgb, param_grid, cv=5, scoring=\"accuracy\", n_jobs=-1)\n",
        "grid_search.fit(X_train, y_train)\n",
        "\n",
        "print(\"Best GridSearchCV Parameters:\", grid_search.best_params_)\n",
        "print(\"Best GridSearchCV Accuracy:\", grid_search.best_score_)\n",
        "\n",
        "# Step 4: Hyperparameter Optimization (Optuna)\n",
        "def objective(trial):\n",
        "    params = {\n",
        "        \"learning_rate\": trial.suggest_float(\"learning_rate\", 0.01, 0.3),\n",
        "        \"max_depth\": trial.suggest_int(\"max_depth\", 3, 10),\n",
        "        \"n_estimators\": trial.suggest_int(\"n_estimators\", 50, 300)\n",
        "    }\n",
        "    model = XGBClassifier(**params, eval_metric=\"logloss\")\n",
        "    score = cross_val_score(model, X_train, y_train, cv=5, scoring=\"accuracy\").mean()\n",
        "    return score\n",
        "\n",
        "study = optuna.create_study(direction=\"maximize\")\n",
        "study.optimize(objective, n_trials=10)\n",
        "\n",
        "# ✅ Fixed Optuna Best Parameter Issue\n",
        "print(\"Best Optuna Parameters:\", study.best_trial.params)\n",
        "print(\"Best Optuna Accuracy:\", study.best_trial.value)\n",
        "\n",
        "# Step 5: Deep Learning Benchmarking (ANN)\n",
        "ann_model = Sequential([\n",
        "    Dense(64, activation=\"relu\", input_shape=(X_train.shape[1],)),\n",
        "    Dropout(0.3),\n",
        "    Dense(32, activation=\"relu\"),\n",
        "    Dropout(0.3),\n",
        "    Dense(1, activation=\"sigmoid\")\n",
        "])\n",
        "\n",
        "ann_model.compile(optimizer=\"adam\", loss=\"binary_crossentropy\", metrics=[\"accuracy\"])\n",
        "\n",
        "# Train ANN Model\n",
        "start_time = time.time()\n",
        "ann_model.fit(X_train, y_train, epochs=20, batch_size=32, validation_data=(X_test, y_test), verbose=1)\n",
        "end_time = time.time()\n",
        "ann_train_time = (end_time - start_time) / 60  # Convert seconds to minutes\n",
        "\n",
        "# Evaluate ANN Model\n",
        "ann_loss, ann_accuracy = ann_model.evaluate(X_test, y_test)\n",
        "print(f\"ANN Test Accuracy: {ann_accuracy * 100:.2f}%\")\n",
        "print(f\"ANN Training Time: {ann_train_time:.2f} minutes\")\n",
        "\n",
        "# Step 6: Statistical Significance Analysis\n",
        "# Run predictions for McNemar's Test\n",
        "xgb_best = grid_search.best_estimator_\n",
        "y_pred_xgb = xgb_best.predict(X_test)\n",
        "y_pred_ann = (ann_model.predict(X_test) > 0.5).astype(\"int32\").flatten()\n",
        "\n",
        "# Confusion Matrix for McNemar's Test\n",
        "conf_matrix = confusion_matrix(y_pred_xgb, y_pred_ann)\n",
        "print(\"McNemar’s Test Confusion Matrix:\\n\", conf_matrix)\n",
        "\n",
        "# Apply McNemar’s Test\n",
        "mcnemar_test = mcnemar(conf_matrix, exact=False)\n",
        "print(f\"McNemar’s Test P-value: {mcnemar_test.pvalue:.5f}\")\n",
        "\n",
        "# Paired t-test\n",
        "t_stat, p_value = ttest_rel(y_pred_xgb, y_pred_ann)\n",
        "print(f\"Paired t-test: t={t_stat:.3f}, p={p_value:.5f}\")\n",
        "\n",
        "# Step 7: Final Results Comparison\n",
        "print(\"\\nFinal Comparison of Models:\")\n",
        "print(f\"Optimized XGBoost Accuracy: {grid_search.best_score_ * 100:.2f}%\")\n",
        "print(f\"Optimized XGBoost (Optuna) Accuracy: {study.best_trial.value * 100:.2f}%\")\n",
        "print(f\"ANN Accuracy: {ann_accuracy * 100:.2f}%\")\n",
        "print(f\"McNemar’s Test P-value: {mcnemar_test.pvalue:.5f} (Significance if p < 0.05)\")\n",
        "print(f\"Paired t-test P-value: {p_value:.5f} (Significance if p < 0.05)\")\n"
      ]
    },
    {
      "cell_type": "code",
      "source": [
        "# Install required package\n",
        "!pip install keras-tuner\n",
        "\n",
        "import tensorflow as tf\n",
        "from tensorflow import keras\n",
        "import keras_tuner as kt  # ✅ Fix for newer Keras Tuner versions\n",
        "import numpy as np\n",
        "import pandas as pd\n",
        "from sklearn.model_selection import train_test_split\n",
        "from sklearn.preprocessing import StandardScaler\n",
        "from google.colab import files\n",
        "\n",
        "# 📂 Step 1: Upload & Load Dataset\n",
        "print(\"📂 Please upload your dataset...\")\n",
        "uploaded = files.upload()\n",
        "file_name = list(uploaded.keys())[0]\n",
        "df = pd.read_csv(file_name)\n",
        "\n",
        "# 🎯 Step 2: Preprocess Data\n",
        "target_column = \"Result\"\n",
        "X = df.drop(columns=[target_column])\n",
        "y = df[target_column]\n",
        "\n",
        "# Standardize features\n",
        "scaler = StandardScaler()\n",
        "X_scaled = scaler.fit_transform(X)\n",
        "\n",
        "# Split into train-test sets\n",
        "X_train, X_test, y_train, y_test = train_test_split(X_scaled, y, test_size=0.2, random_state=42, stratify=y)\n",
        "\n",
        "# Step 3: Define Model Builder Function\n",
        "def build_ann_model(hp):\n",
        "    model = keras.Sequential()\n",
        "\n",
        "    # Input layer\n",
        "    model.add(keras.layers.Dense(\n",
        "        hp.Int('units1', min_value=32, max_value=256, step=32),\n",
        "        activation='relu', input_shape=(X_train.shape[1],)\n",
        "    ))\n",
        "    model.add(keras.layers.Dropout(hp.Float('dropout1', 0.1, 0.5, step=0.1)))\n",
        "\n",
        "    # Hidden layers\n",
        "    for i in range(hp.Int('num_layers', 1, 3)):  # ✅ Dynamic number of layers\n",
        "        model.add(keras.layers.Dense(\n",
        "            hp.Int(f'units{i+2}', min_value=32, max_value=256, step=32),\n",
        "            activation='relu'\n",
        "        ))\n",
        "        model.add(keras.layers.Dropout(hp.Float(f'dropout{i+2}', 0.1, 0.5, step=0.1)))\n",
        "\n",
        "    # Output layer\n",
        "    model.add(keras.layers.Dense(1, activation='sigmoid'))\n",
        "\n",
        "    # Compile model\n",
        "    model.compile(\n",
        "        optimizer=keras.optimizers.Adam(hp.Choice('learning_rate', [0.0001, 0.001, 0.01])),\n",
        "        loss='binary_crossentropy',\n",
        "        metrics=['accuracy']\n",
        "    )\n",
        "    return model\n",
        "\n",
        "# Step 4: Initialize Keras Tuner with 3 Trials\n",
        "tuner = kt.RandomSearch(\n",
        "    build_ann_model,\n",
        "    objective='val_accuracy',\n",
        "    max_trials=3,  # ✅ Reduced trials to 3\n",
        "    executions_per_trial=1,\n",
        "    directory='keras_tuner_dir',\n",
        "    project_name='liver_disease_ann'\n",
        ")\n",
        "\n",
        "# Step 5: Train Hyperparameter Search\n",
        "print(\"🔍 Searching for best ANN hyperparameters...\")\n",
        "tuner.search(X_train, y_train, epochs=15, validation_split=0.2, verbose=1)\n",
        "\n",
        "# Step 6: Retrieve Best Hyperparameters\n",
        "best_hps = tuner.get_best_hyperparameters(num_trials=1)[0]\n",
        "print(\"✅ Best Hyperparameters Found:\", best_hps.values)\n",
        "\n",
        "# Step 7: Train Model with Best Parameters\n",
        "best_ann = tuner.hypermodel.build(best_hps)\n",
        "\n",
        "# ✅ Save the best model checkpoint\n",
        "checkpoint_cb = keras.callbacks.ModelCheckpoint(\"best_ann_model.h5\", save_best_only=True)\n",
        "\n",
        "history = best_ann.fit(\n",
        "    X_train, y_train,\n",
        "    epochs=30, batch_size=32, validation_data=(X_test, y_test),\n",
        "    callbacks=[checkpoint_cb], verbose=1\n",
        ")\n",
        "\n",
        "# Step 8: Evaluate the Optimized ANN\n",
        "best_ann = keras.models.load_model(\"best_ann_model.h5\")  # ✅ Load the best model\n",
        "ann_loss, ann_accuracy = best_ann.evaluate(X_test, y_test)\n",
        "print(f\"🎯 Optimized ANN Test Accuracy: {ann_accuracy * 100:.2f}%\")\n"
      ],
      "metadata": {
        "colab": {
          "base_uri": "https://localhost:8080/",
          "height": 1000
        },
        "id": "53YKbMF00TJB",
        "outputId": "e7e74d30-7e3d-4334-83dd-221596f45a76"
      },
      "execution_count": null,
      "outputs": [
        {
          "output_type": "stream",
          "name": "stdout",
          "text": [
            "Trial 4 Complete [00h 00m 56s]\n",
            "val_accuracy: 0.8060649633407593\n",
            "\n",
            "Best val_accuracy So Far: 0.9347292184829712\n",
            "Total elapsed time: 00h 13m 58s\n",
            "✅ Best Hyperparameters Found: {'units1': 256, 'dropout1': 0.4, 'num_layers': 3, 'units2': 160, 'dropout2': 0.30000000000000004, 'learning_rate': 0.001, 'units3': 224, 'dropout3': 0.4, 'units4': 64, 'dropout4': 0.2}\n",
            "Epoch 1/30\n",
            "\u001b[1m1073/1082\u001b[0m \u001b[32m━━━━━━━━━━━━━━━━━━━\u001b[0m\u001b[37m━\u001b[0m \u001b[1m0s\u001b[0m 5ms/step - accuracy: 0.6669 - loss: 0.5931"
          ]
        },
        {
          "output_type": "stream",
          "name": "stderr",
          "text": [
            "WARNING:absl:You are saving your model as an HDF5 file via `model.save()` or `keras.saving.save_model(model)`. This file format is considered legacy. We recommend using instead the native Keras format, e.g. `model.save('my_model.keras')` or `keras.saving.save_model(model, 'my_model.keras')`. \n"
          ]
        },
        {
          "output_type": "stream",
          "name": "stdout",
          "text": [
            "\b\b\b\b\b\b\b\b\b\b\b\b\b\b\b\b\b\b\b\b\b\b\b\b\b\b\b\b\b\b\b\b\b\b\b\b\b\b\b\b\b\b\b\b\b\b\b\b\b\b\b\b\b\b\b\b\b\b\b\b\b\b\b\b\b\b\b\b\b\b\b\b\b\b\b\b\r\u001b[1m1082/1082\u001b[0m \u001b[32m━━━━━━━━━━━━━━━━━━━━\u001b[0m\u001b[37m\u001b[0m \u001b[1m8s\u001b[0m 5ms/step - accuracy: 0.6671 - loss: 0.5929 - val_accuracy: 0.7269 - val_loss: 0.5126\n",
            "Epoch 2/30\n",
            "\u001b[1m1082/1082\u001b[0m \u001b[32m━━━━━━━━━━━━━━━━━━━━\u001b[0m\u001b[37m\u001b[0m \u001b[1m0s\u001b[0m 4ms/step - accuracy: 0.7153 - loss: 0.5264"
          ]
        },
        {
          "output_type": "stream",
          "name": "stderr",
          "text": [
            "WARNING:absl:You are saving your model as an HDF5 file via `model.save()` or `keras.saving.save_model(model)`. This file format is considered legacy. We recommend using instead the native Keras format, e.g. `model.save('my_model.keras')` or `keras.saving.save_model(model, 'my_model.keras')`. \n"
          ]
        },
        {
          "output_type": "stream",
          "name": "stdout",
          "text": [
            "\b\b\b\b\b\b\b\b\b\b\b\b\b\b\b\b\b\b\b\b\b\b\b\b\b\b\b\b\b\b\b\b\b\b\b\b\b\b\b\b\b\b\b\b\b\b\b\b\b\b\b\b\b\b\b\b\b\b\b\b\b\b\b\b\b\b\b\b\b\b\b\b\b\b\b\b\r\u001b[1m1082/1082\u001b[0m \u001b[32m━━━━━━━━━━━━━━━━━━━━\u001b[0m\u001b[37m\u001b[0m \u001b[1m5s\u001b[0m 4ms/step - accuracy: 0.7153 - loss: 0.5264 - val_accuracy: 0.7659 - val_loss: 0.4522\n",
            "Epoch 3/30\n",
            "\u001b[1m1077/1082\u001b[0m \u001b[32m━━━━━━━━━━━━━━━━━━━\u001b[0m\u001b[37m━\u001b[0m \u001b[1m0s\u001b[0m 4ms/step - accuracy: 0.7506 - loss: 0.4767"
          ]
        },
        {
          "output_type": "stream",
          "name": "stderr",
          "text": [
            "WARNING:absl:You are saving your model as an HDF5 file via `model.save()` or `keras.saving.save_model(model)`. This file format is considered legacy. We recommend using instead the native Keras format, e.g. `model.save('my_model.keras')` or `keras.saving.save_model(model, 'my_model.keras')`. \n"
          ]
        },
        {
          "output_type": "stream",
          "name": "stdout",
          "text": [
            "\b\b\b\b\b\b\b\b\b\b\b\b\b\b\b\b\b\b\b\b\b\b\b\b\b\b\b\b\b\b\b\b\b\b\b\b\b\b\b\b\b\b\b\b\b\b\b\b\b\b\b\b\b\b\b\b\b\b\b\b\b\b\b\b\b\b\b\b\b\b\b\b\b\b\b\b\r\u001b[1m1082/1082\u001b[0m \u001b[32m━━━━━━━━━━━━━━━━━━━━\u001b[0m\u001b[37m\u001b[0m \u001b[1m7s\u001b[0m 6ms/step - accuracy: 0.7507 - loss: 0.4766 - val_accuracy: 0.8182 - val_loss: 0.3835\n",
            "Epoch 4/30\n",
            "\u001b[1m1076/1082\u001b[0m \u001b[32m━━━━━━━━━━━━━━━━━━━\u001b[0m\u001b[37m━\u001b[0m \u001b[1m0s\u001b[0m 4ms/step - accuracy: 0.7857 - loss: 0.4283"
          ]
        },
        {
          "output_type": "stream",
          "name": "stderr",
          "text": [
            "WARNING:absl:You are saving your model as an HDF5 file via `model.save()` or `keras.saving.save_model(model)`. This file format is considered legacy. We recommend using instead the native Keras format, e.g. `model.save('my_model.keras')` or `keras.saving.save_model(model, 'my_model.keras')`. \n"
          ]
        },
        {
          "output_type": "stream",
          "name": "stdout",
          "text": [
            "\b\b\b\b\b\b\b\b\b\b\b\b\b\b\b\b\b\b\b\b\b\b\b\b\b\b\b\b\b\b\b\b\b\b\b\b\b\b\b\b\b\b\b\b\b\b\b\b\b\b\b\b\b\b\b\b\b\b\b\b\b\b\b\b\b\b\b\b\b\b\b\b\b\b\b\b\r\u001b[1m1082/1082\u001b[0m \u001b[32m━━━━━━━━━━━━━━━━━━━━\u001b[0m\u001b[37m\u001b[0m \u001b[1m5s\u001b[0m 4ms/step - accuracy: 0.7858 - loss: 0.4282 - val_accuracy: 0.8470 - val_loss: 0.3252\n",
            "Epoch 5/30\n",
            "\u001b[1m1070/1082\u001b[0m \u001b[32m━━━━━━━━━━━━━━━━━━━\u001b[0m\u001b[37m━\u001b[0m \u001b[1m0s\u001b[0m 4ms/step - accuracy: 0.8157 - loss: 0.3833"
          ]
        },
        {
          "output_type": "stream",
          "name": "stderr",
          "text": [
            "WARNING:absl:You are saving your model as an HDF5 file via `model.save()` or `keras.saving.save_model(model)`. This file format is considered legacy. We recommend using instead the native Keras format, e.g. `model.save('my_model.keras')` or `keras.saving.save_model(model, 'my_model.keras')`. \n"
          ]
        },
        {
          "output_type": "stream",
          "name": "stdout",
          "text": [
            "\b\b\b\b\b\b\b\b\b\b\b\b\b\b\b\b\b\b\b\b\b\b\b\b\b\b\b\b\b\b\b\b\b\b\b\b\b\b\b\b\b\b\b\b\b\b\b\b\b\b\b\b\b\b\b\b\b\b\b\b\b\b\b\b\b\b\b\b\b\b\b\b\b\b\b\b\r\u001b[1m1082/1082\u001b[0m \u001b[32m━━━━━━━━━━━━━━━━━━━━\u001b[0m\u001b[37m\u001b[0m \u001b[1m5s\u001b[0m 4ms/step - accuracy: 0.8157 - loss: 0.3832 - val_accuracy: 0.8655 - val_loss: 0.2949\n",
            "Epoch 6/30\n",
            "\u001b[1m1076/1082\u001b[0m \u001b[32m━━━━━━━━━━━━━━━━━━━\u001b[0m\u001b[37m━\u001b[0m \u001b[1m0s\u001b[0m 5ms/step - accuracy: 0.8370 - loss: 0.3456"
          ]
        },
        {
          "output_type": "stream",
          "name": "stderr",
          "text": [
            "WARNING:absl:You are saving your model as an HDF5 file via `model.save()` or `keras.saving.save_model(model)`. This file format is considered legacy. We recommend using instead the native Keras format, e.g. `model.save('my_model.keras')` or `keras.saving.save_model(model, 'my_model.keras')`. \n"
          ]
        },
        {
          "output_type": "stream",
          "name": "stdout",
          "text": [
            "\b\b\b\b\b\b\b\b\b\b\b\b\b\b\b\b\b\b\b\b\b\b\b\b\b\b\b\b\b\b\b\b\b\b\b\b\b\b\b\b\b\b\b\b\b\b\b\b\b\b\b\b\b\b\b\b\b\b\b\b\b\b\b\b\b\b\b\b\b\b\b\b\b\b\b\b\r\u001b[1m1082/1082\u001b[0m \u001b[32m━━━━━━━━━━━━━━━━━━━━\u001b[0m\u001b[37m\u001b[0m \u001b[1m6s\u001b[0m 5ms/step - accuracy: 0.8370 - loss: 0.3455 - val_accuracy: 0.8744 - val_loss: 0.2610\n",
            "Epoch 7/30\n",
            "\u001b[1m1077/1082\u001b[0m \u001b[32m━━━━━━━━━━━━━━━━━━━\u001b[0m\u001b[37m━\u001b[0m \u001b[1m0s\u001b[0m 4ms/step - accuracy: 0.8439 - loss: 0.3268"
          ]
        },
        {
          "output_type": "stream",
          "name": "stderr",
          "text": [
            "WARNING:absl:You are saving your model as an HDF5 file via `model.save()` or `keras.saving.save_model(model)`. This file format is considered legacy. We recommend using instead the native Keras format, e.g. `model.save('my_model.keras')` or `keras.saving.save_model(model, 'my_model.keras')`. \n"
          ]
        },
        {
          "output_type": "stream",
          "name": "stdout",
          "text": [
            "\b\b\b\b\b\b\b\b\b\b\b\b\b\b\b\b\b\b\b\b\b\b\b\b\b\b\b\b\b\b\b\b\b\b\b\b\b\b\b\b\b\b\b\b\b\b\b\b\b\b\b\b\b\b\b\b\b\b\b\b\b\b\b\b\b\b\b\b\b\b\b\b\b\b\b\b\r\u001b[1m1082/1082\u001b[0m \u001b[32m━━━━━━━━━━━━━━━━━━━━\u001b[0m\u001b[37m\u001b[0m \u001b[1m10s\u001b[0m 5ms/step - accuracy: 0.8439 - loss: 0.3267 - val_accuracy: 0.9002 - val_loss: 0.2341\n",
            "Epoch 8/30\n",
            "\u001b[1m1081/1082\u001b[0m \u001b[32m━━━━━━━━━━━━━━━━━━━\u001b[0m\u001b[37m━\u001b[0m \u001b[1m0s\u001b[0m 3ms/step - accuracy: 0.8567 - loss: 0.3076"
          ]
        },
        {
          "output_type": "stream",
          "name": "stderr",
          "text": [
            "WARNING:absl:You are saving your model as an HDF5 file via `model.save()` or `keras.saving.save_model(model)`. This file format is considered legacy. We recommend using instead the native Keras format, e.g. `model.save('my_model.keras')` or `keras.saving.save_model(model, 'my_model.keras')`. \n"
          ]
        },
        {
          "output_type": "stream",
          "name": "stdout",
          "text": [
            "\b\b\b\b\b\b\b\b\b\b\b\b\b\b\b\b\b\b\b\b\b\b\b\b\b\b\b\b\b\b\b\b\b\b\b\b\b\b\b\b\b\b\b\b\b\b\b\b\b\b\b\b\b\b\b\b\b\b\b\b\b\b\b\b\b\b\b\b\b\b\b\b\b\b\b\b\r\u001b[1m1082/1082\u001b[0m \u001b[32m━━━━━━━━━━━━━━━━━━━━\u001b[0m\u001b[37m\u001b[0m \u001b[1m9s\u001b[0m 4ms/step - accuracy: 0.8567 - loss: 0.3076 - val_accuracy: 0.9046 - val_loss: 0.2165\n",
            "Epoch 9/30\n",
            "\u001b[1m1081/1082\u001b[0m \u001b[32m━━━━━━━━━━━━━━━━━━━\u001b[0m\u001b[37m━\u001b[0m \u001b[1m0s\u001b[0m 4ms/step - accuracy: 0.8670 - loss: 0.2875"
          ]
        },
        {
          "output_type": "stream",
          "name": "stderr",
          "text": [
            "WARNING:absl:You are saving your model as an HDF5 file via `model.save()` or `keras.saving.save_model(model)`. This file format is considered legacy. We recommend using instead the native Keras format, e.g. `model.save('my_model.keras')` or `keras.saving.save_model(model, 'my_model.keras')`. \n"
          ]
        },
        {
          "output_type": "stream",
          "name": "stdout",
          "text": [
            "\b\b\b\b\b\b\b\b\b\b\b\b\b\b\b\b\b\b\b\b\b\b\b\b\b\b\b\b\b\b\b\b\b\b\b\b\b\b\b\b\b\b\b\b\b\b\b\b\b\b\b\b\b\b\b\b\b\b\b\b\b\b\b\b\b\b\b\b\b\b\b\b\b\b\b\b\r\u001b[1m1082/1082\u001b[0m \u001b[32m━━━━━━━━━━━━━━━━━━━━\u001b[0m\u001b[37m\u001b[0m \u001b[1m6s\u001b[0m 5ms/step - accuracy: 0.8670 - loss: 0.2875 - val_accuracy: 0.9166 - val_loss: 0.1938\n",
            "Epoch 10/30\n",
            "\u001b[1m1079/1082\u001b[0m \u001b[32m━━━━━━━━━━━━━━━━━━━\u001b[0m\u001b[37m━\u001b[0m \u001b[1m0s\u001b[0m 4ms/step - accuracy: 0.8754 - loss: 0.2757"
          ]
        },
        {
          "output_type": "stream",
          "name": "stderr",
          "text": [
            "WARNING:absl:You are saving your model as an HDF5 file via `model.save()` or `keras.saving.save_model(model)`. This file format is considered legacy. We recommend using instead the native Keras format, e.g. `model.save('my_model.keras')` or `keras.saving.save_model(model, 'my_model.keras')`. \n"
          ]
        },
        {
          "output_type": "stream",
          "name": "stdout",
          "text": [
            "\b\b\b\b\b\b\b\b\b\b\b\b\b\b\b\b\b\b\b\b\b\b\b\b\b\b\b\b\b\b\b\b\b\b\b\b\b\b\b\b\b\b\b\b\b\b\b\b\b\b\b\b\b\b\b\b\b\b\b\b\b\b\b\b\b\b\b\b\b\b\b\b\b\b\b\b\r\u001b[1m1082/1082\u001b[0m \u001b[32m━━━━━━━━━━━━━━━━━━━━\u001b[0m\u001b[37m\u001b[0m \u001b[1m10s\u001b[0m 5ms/step - accuracy: 0.8754 - loss: 0.2757 - val_accuracy: 0.9204 - val_loss: 0.1862\n",
            "Epoch 11/30\n",
            "\u001b[1m1073/1082\u001b[0m \u001b[32m━━━━━━━━━━━━━━━━━━━\u001b[0m\u001b[37m━\u001b[0m \u001b[1m0s\u001b[0m 4ms/step - accuracy: 0.8834 - loss: 0.2564"
          ]
        },
        {
          "output_type": "stream",
          "name": "stderr",
          "text": [
            "WARNING:absl:You are saving your model as an HDF5 file via `model.save()` or `keras.saving.save_model(model)`. This file format is considered legacy. We recommend using instead the native Keras format, e.g. `model.save('my_model.keras')` or `keras.saving.save_model(model, 'my_model.keras')`. \n"
          ]
        },
        {
          "output_type": "stream",
          "name": "stdout",
          "text": [
            "\b\b\b\b\b\b\b\b\b\b\b\b\b\b\b\b\b\b\b\b\b\b\b\b\b\b\b\b\b\b\b\b\b\b\b\b\b\b\b\b\b\b\b\b\b\b\b\b\b\b\b\b\b\b\b\b\b\b\b\b\b\b\b\b\b\b\b\b\b\b\b\b\b\b\b\b\r\u001b[1m1082/1082\u001b[0m \u001b[32m━━━━━━━━━━━━━━━━━━━━\u001b[0m\u001b[37m\u001b[0m \u001b[1m10s\u001b[0m 4ms/step - accuracy: 0.8834 - loss: 0.2564 - val_accuracy: 0.9249 - val_loss: 0.1718\n",
            "Epoch 12/30\n",
            "\u001b[1m1079/1082\u001b[0m \u001b[32m━━━━━━━━━━━━━━━━━━━\u001b[0m\u001b[37m━\u001b[0m \u001b[1m0s\u001b[0m 4ms/step - accuracy: 0.8928 - loss: 0.2478"
          ]
        },
        {
          "output_type": "stream",
          "name": "stderr",
          "text": [
            "WARNING:absl:You are saving your model as an HDF5 file via `model.save()` or `keras.saving.save_model(model)`. This file format is considered legacy. We recommend using instead the native Keras format, e.g. `model.save('my_model.keras')` or `keras.saving.save_model(model, 'my_model.keras')`. \n"
          ]
        },
        {
          "output_type": "stream",
          "name": "stdout",
          "text": [
            "\b\b\b\b\b\b\b\b\b\b\b\b\b\b\b\b\b\b\b\b\b\b\b\b\b\b\b\b\b\b\b\b\b\b\b\b\b\b\b\b\b\b\b\b\b\b\b\b\b\b\b\b\b\b\b\b\b\b\b\b\b\b\b\b\b\b\b\b\b\b\b\b\b\b\b\b\r\u001b[1m1082/1082\u001b[0m \u001b[32m━━━━━━━━━━━━━━━━━━━━\u001b[0m\u001b[37m\u001b[0m \u001b[1m6s\u001b[0m 5ms/step - accuracy: 0.8928 - loss: 0.2478 - val_accuracy: 0.9378 - val_loss: 0.1536\n",
            "Epoch 13/30\n",
            "\u001b[1m1082/1082\u001b[0m \u001b[32m━━━━━━━━━━━━━━━━━━━━\u001b[0m\u001b[37m\u001b[0m \u001b[1m10s\u001b[0m 5ms/step - accuracy: 0.8968 - loss: 0.2364 - val_accuracy: 0.9308 - val_loss: 0.1622\n",
            "Epoch 14/30\n",
            "\u001b[1m1071/1082\u001b[0m \u001b[32m━━━━━━━━━━━━━━━━━━━\u001b[0m\u001b[37m━\u001b[0m \u001b[1m0s\u001b[0m 4ms/step - accuracy: 0.9019 - loss: 0.2252"
          ]
        },
        {
          "output_type": "stream",
          "name": "stderr",
          "text": [
            "WARNING:absl:You are saving your model as an HDF5 file via `model.save()` or `keras.saving.save_model(model)`. This file format is considered legacy. We recommend using instead the native Keras format, e.g. `model.save('my_model.keras')` or `keras.saving.save_model(model, 'my_model.keras')`. \n"
          ]
        },
        {
          "output_type": "stream",
          "name": "stdout",
          "text": [
            "\b\b\b\b\b\b\b\b\b\b\b\b\b\b\b\b\b\b\b\b\b\b\b\b\b\b\b\b\b\b\b\b\b\b\b\b\b\b\b\b\b\b\b\b\b\b\b\b\b\b\b\b\b\b\b\b\b\b\b\b\b\b\b\b\b\b\b\b\b\b\b\b\b\b\b\b\r\u001b[1m1082/1082\u001b[0m \u001b[32m━━━━━━━━━━━━━━━━━━━━\u001b[0m\u001b[37m\u001b[0m \u001b[1m5s\u001b[0m 4ms/step - accuracy: 0.9019 - loss: 0.2252 - val_accuracy: 0.9436 - val_loss: 0.1344\n",
            "Epoch 15/30\n",
            "\u001b[1m1077/1082\u001b[0m \u001b[32m━━━━━━━━━━━━━━━━━━━\u001b[0m\u001b[37m━\u001b[0m \u001b[1m0s\u001b[0m 4ms/step - accuracy: 0.9071 - loss: 0.2144"
          ]
        },
        {
          "output_type": "stream",
          "name": "stderr",
          "text": [
            "WARNING:absl:You are saving your model as an HDF5 file via `model.save()` or `keras.saving.save_model(model)`. This file format is considered legacy. We recommend using instead the native Keras format, e.g. `model.save('my_model.keras')` or `keras.saving.save_model(model, 'my_model.keras')`. \n"
          ]
        },
        {
          "output_type": "stream",
          "name": "stdout",
          "text": [
            "\b\b\b\b\b\b\b\b\b\b\b\b\b\b\b\b\b\b\b\b\b\b\b\b\b\b\b\b\b\b\b\b\b\b\b\b\b\b\b\b\b\b\b\b\b\b\b\b\b\b\b\b\b\b\b\b\b\b\b\b\b\b\b\b\b\b\b\b\b\b\b\b\b\b\b\b\r\u001b[1m1082/1082\u001b[0m \u001b[32m━━━━━━━━━━━━━━━━━━━━\u001b[0m\u001b[37m\u001b[0m \u001b[1m5s\u001b[0m 4ms/step - accuracy: 0.9071 - loss: 0.2144 - val_accuracy: 0.9582 - val_loss: 0.1257\n",
            "Epoch 16/30\n",
            "\u001b[1m1078/1082\u001b[0m \u001b[32m━━━━━━━━━━━━━━━━━━━\u001b[0m\u001b[37m━\u001b[0m \u001b[1m0s\u001b[0m 5ms/step - accuracy: 0.9159 - loss: 0.2003"
          ]
        },
        {
          "output_type": "stream",
          "name": "stderr",
          "text": [
            "WARNING:absl:You are saving your model as an HDF5 file via `model.save()` or `keras.saving.save_model(model)`. This file format is considered legacy. We recommend using instead the native Keras format, e.g. `model.save('my_model.keras')` or `keras.saving.save_model(model, 'my_model.keras')`. \n"
          ]
        },
        {
          "output_type": "stream",
          "name": "stdout",
          "text": [
            "\b\b\b\b\b\b\b\b\b\b\b\b\b\b\b\b\b\b\b\b\b\b\b\b\b\b\b\b\b\b\b\b\b\b\b\b\b\b\b\b\b\b\b\b\b\b\b\b\b\b\b\b\b\b\b\b\b\b\b\b\b\b\b\b\b\b\b\b\b\b\b\b\b\b\b\b\r\u001b[1m1082/1082\u001b[0m \u001b[32m━━━━━━━━━━━━━━━━━━━━\u001b[0m\u001b[37m\u001b[0m \u001b[1m5s\u001b[0m 5ms/step - accuracy: 0.9159 - loss: 0.2003 - val_accuracy: 0.9569 - val_loss: 0.1196\n",
            "Epoch 17/30\n",
            "\u001b[1m1080/1082\u001b[0m \u001b[32m━━━━━━━━━━━━━━━━━━━\u001b[0m\u001b[37m━\u001b[0m \u001b[1m0s\u001b[0m 4ms/step - accuracy: 0.9184 - loss: 0.1964"
          ]
        },
        {
          "output_type": "stream",
          "name": "stderr",
          "text": [
            "WARNING:absl:You are saving your model as an HDF5 file via `model.save()` or `keras.saving.save_model(model)`. This file format is considered legacy. We recommend using instead the native Keras format, e.g. `model.save('my_model.keras')` or `keras.saving.save_model(model, 'my_model.keras')`. \n"
          ]
        },
        {
          "output_type": "stream",
          "name": "stdout",
          "text": [
            "\b\b\b\b\b\b\b\b\b\b\b\b\b\b\b\b\b\b\b\b\b\b\b\b\b\b\b\b\b\b\b\b\b\b\b\b\b\b\b\b\b\b\b\b\b\b\b\b\b\b\b\b\b\b\b\b\b\b\b\b\b\b\b\b\b\b\b\b\b\b\b\b\b\b\b\b\r\u001b[1m1082/1082\u001b[0m \u001b[32m━━━━━━━━━━━━━━━━━━━━\u001b[0m\u001b[37m\u001b[0m \u001b[1m10s\u001b[0m 5ms/step - accuracy: 0.9184 - loss: 0.1964 - val_accuracy: 0.9567 - val_loss: 0.1155\n",
            "Epoch 18/30\n",
            "\u001b[1m1068/1082\u001b[0m \u001b[32m━━━━━━━━━━━━━━━━━━━\u001b[0m\u001b[37m━\u001b[0m \u001b[1m0s\u001b[0m 4ms/step - accuracy: 0.9191 - loss: 0.1961"
          ]
        },
        {
          "output_type": "stream",
          "name": "stderr",
          "text": [
            "WARNING:absl:You are saving your model as an HDF5 file via `model.save()` or `keras.saving.save_model(model)`. This file format is considered legacy. We recommend using instead the native Keras format, e.g. `model.save('my_model.keras')` or `keras.saving.save_model(model, 'my_model.keras')`. \n"
          ]
        },
        {
          "output_type": "stream",
          "name": "stdout",
          "text": [
            "\b\b\b\b\b\b\b\b\b\b\b\b\b\b\b\b\b\b\b\b\b\b\b\b\b\b\b\b\b\b\b\b\b\b\b\b\b\b\b\b\b\b\b\b\b\b\b\b\b\b\b\b\b\b\b\b\b\b\b\b\b\b\b\b\b\b\b\b\b\b\b\b\b\b\b\b\r\u001b[1m1082/1082\u001b[0m \u001b[32m━━━━━━━━━━━━━━━━━━━━\u001b[0m\u001b[37m\u001b[0m \u001b[1m10s\u001b[0m 4ms/step - accuracy: 0.9191 - loss: 0.1960 - val_accuracy: 0.9642 - val_loss: 0.1067\n",
            "Epoch 19/30\n",
            "\u001b[1m1077/1082\u001b[0m \u001b[32m━━━━━━━━━━━━━━━━━━━\u001b[0m\u001b[37m━\u001b[0m \u001b[1m0s\u001b[0m 5ms/step - accuracy: 0.9241 - loss: 0.1858"
          ]
        },
        {
          "output_type": "stream",
          "name": "stderr",
          "text": [
            "WARNING:absl:You are saving your model as an HDF5 file via `model.save()` or `keras.saving.save_model(model)`. This file format is considered legacy. We recommend using instead the native Keras format, e.g. `model.save('my_model.keras')` or `keras.saving.save_model(model, 'my_model.keras')`. \n"
          ]
        },
        {
          "output_type": "stream",
          "name": "stdout",
          "text": [
            "\b\b\b\b\b\b\b\b\b\b\b\b\b\b\b\b\b\b\b\b\b\b\b\b\b\b\b\b\b\b\b\b\b\b\b\b\b\b\b\b\b\b\b\b\b\b\b\b\b\b\b\b\b\b\b\b\b\b\b\b\b\b\b\b\b\b\b\b\b\b\b\b\b\b\b\b\r\u001b[1m1082/1082\u001b[0m \u001b[32m━━━━━━━━━━━━━━━━━━━━\u001b[0m\u001b[37m\u001b[0m \u001b[1m6s\u001b[0m 5ms/step - accuracy: 0.9241 - loss: 0.1858 - val_accuracy: 0.9636 - val_loss: 0.1025\n",
            "Epoch 20/30\n",
            "\u001b[1m1081/1082\u001b[0m \u001b[32m━━━━━━━━━━━━━━━━━━━\u001b[0m\u001b[37m━\u001b[0m \u001b[1m0s\u001b[0m 4ms/step - accuracy: 0.9262 - loss: 0.1807"
          ]
        },
        {
          "output_type": "stream",
          "name": "stderr",
          "text": [
            "WARNING:absl:You are saving your model as an HDF5 file via `model.save()` or `keras.saving.save_model(model)`. This file format is considered legacy. We recommend using instead the native Keras format, e.g. `model.save('my_model.keras')` or `keras.saving.save_model(model, 'my_model.keras')`. \n"
          ]
        },
        {
          "output_type": "stream",
          "name": "stdout",
          "text": [
            "\b\b\b\b\b\b\b\b\b\b\b\b\b\b\b\b\b\b\b\b\b\b\b\b\b\b\b\b\b\b\b\b\b\b\b\b\b\b\b\b\b\b\b\b\b\b\b\b\b\b\b\b\b\b\b\b\b\b\b\b\b\b\b\b\b\b\b\b\b\b\b\b\b\b\b\b\r\u001b[1m1082/1082\u001b[0m \u001b[32m━━━━━━━━━━━━━━━━━━━━\u001b[0m\u001b[37m\u001b[0m \u001b[1m10s\u001b[0m 5ms/step - accuracy: 0.9262 - loss: 0.1807 - val_accuracy: 0.9606 - val_loss: 0.0988\n",
            "Epoch 21/30\n",
            "\u001b[1m1070/1082\u001b[0m \u001b[32m━━━━━━━━━━━━━━━━━━━\u001b[0m\u001b[37m━\u001b[0m \u001b[1m0s\u001b[0m 4ms/step - accuracy: 0.9296 - loss: 0.1755"
          ]
        },
        {
          "output_type": "stream",
          "name": "stderr",
          "text": [
            "WARNING:absl:You are saving your model as an HDF5 file via `model.save()` or `keras.saving.save_model(model)`. This file format is considered legacy. We recommend using instead the native Keras format, e.g. `model.save('my_model.keras')` or `keras.saving.save_model(model, 'my_model.keras')`. \n"
          ]
        },
        {
          "output_type": "stream",
          "name": "stdout",
          "text": [
            "\b\b\b\b\b\b\b\b\b\b\b\b\b\b\b\b\b\b\b\b\b\b\b\b\b\b\b\b\b\b\b\b\b\b\b\b\b\b\b\b\b\b\b\b\b\b\b\b\b\b\b\b\b\b\b\b\b\b\b\b\b\b\b\b\b\b\b\b\b\b\b\b\b\b\b\b\r\u001b[1m1082/1082\u001b[0m \u001b[32m━━━━━━━━━━━━━━━━━━━━\u001b[0m\u001b[37m\u001b[0m \u001b[1m5s\u001b[0m 4ms/step - accuracy: 0.9296 - loss: 0.1755 - val_accuracy: 0.9663 - val_loss: 0.0924\n",
            "Epoch 22/30\n",
            "\u001b[1m1077/1082\u001b[0m \u001b[32m━━━━━━━━━━━━━━━━━━━\u001b[0m\u001b[37m━\u001b[0m \u001b[1m0s\u001b[0m 4ms/step - accuracy: 0.9315 - loss: 0.1669"
          ]
        },
        {
          "output_type": "stream",
          "name": "stderr",
          "text": [
            "WARNING:absl:You are saving your model as an HDF5 file via `model.save()` or `keras.saving.save_model(model)`. This file format is considered legacy. We recommend using instead the native Keras format, e.g. `model.save('my_model.keras')` or `keras.saving.save_model(model, 'my_model.keras')`. \n"
          ]
        },
        {
          "output_type": "stream",
          "name": "stdout",
          "text": [
            "\b\b\b\b\b\b\b\b\b\b\b\b\b\b\b\b\b\b\b\b\b\b\b\b\b\b\b\b\b\b\b\b\b\b\b\b\b\b\b\b\b\b\b\b\b\b\b\b\b\b\b\b\b\b\b\b\b\b\b\b\b\b\b\b\b\b\b\b\b\b\b\b\b\b\b\b\r\u001b[1m1082/1082\u001b[0m \u001b[32m━━━━━━━━━━━━━━━━━━━━\u001b[0m\u001b[37m\u001b[0m \u001b[1m5s\u001b[0m 4ms/step - accuracy: 0.9315 - loss: 0.1669 - val_accuracy: 0.9715 - val_loss: 0.0863\n",
            "Epoch 23/30\n",
            "\u001b[1m1074/1082\u001b[0m \u001b[32m━━━━━━━━━━━━━━━━━━━\u001b[0m\u001b[37m━\u001b[0m \u001b[1m0s\u001b[0m 5ms/step - accuracy: 0.9364 - loss: 0.1627"
          ]
        },
        {
          "output_type": "stream",
          "name": "stderr",
          "text": [
            "WARNING:absl:You are saving your model as an HDF5 file via `model.save()` or `keras.saving.save_model(model)`. This file format is considered legacy. We recommend using instead the native Keras format, e.g. `model.save('my_model.keras')` or `keras.saving.save_model(model, 'my_model.keras')`. \n"
          ]
        },
        {
          "output_type": "stream",
          "name": "stdout",
          "text": [
            "\b\b\b\b\b\b\b\b\b\b\b\b\b\b\b\b\b\b\b\b\b\b\b\b\b\b\b\b\b\b\b\b\b\b\b\b\b\b\b\b\b\b\b\b\b\b\b\b\b\b\b\b\b\b\b\b\b\b\b\b\b\b\b\b\b\b\b\b\b\b\b\b\b\b\b\b\r\u001b[1m1082/1082\u001b[0m \u001b[32m━━━━━━━━━━━━━━━━━━━━\u001b[0m\u001b[37m\u001b[0m \u001b[1m6s\u001b[0m 5ms/step - accuracy: 0.9364 - loss: 0.1628 - val_accuracy: 0.9716 - val_loss: 0.0853\n",
            "Epoch 24/30\n",
            "\u001b[1m1082/1082\u001b[0m \u001b[32m━━━━━━━━━━━━━━━━━━━━\u001b[0m\u001b[37m\u001b[0m \u001b[1m10s\u001b[0m 5ms/step - accuracy: 0.9363 - loss: 0.1598 - val_accuracy: 0.9746 - val_loss: 0.0868\n",
            "Epoch 25/30\n",
            "\u001b[1m1074/1082\u001b[0m \u001b[32m━━━━━━━━━━━━━━━━━━━\u001b[0m\u001b[37m━\u001b[0m \u001b[1m0s\u001b[0m 4ms/step - accuracy: 0.9399 - loss: 0.1524"
          ]
        },
        {
          "output_type": "stream",
          "name": "stderr",
          "text": [
            "WARNING:absl:You are saving your model as an HDF5 file via `model.save()` or `keras.saving.save_model(model)`. This file format is considered legacy. We recommend using instead the native Keras format, e.g. `model.save('my_model.keras')` or `keras.saving.save_model(model, 'my_model.keras')`. \n"
          ]
        },
        {
          "output_type": "stream",
          "name": "stdout",
          "text": [
            "\b\b\b\b\b\b\b\b\b\b\b\b\b\b\b\b\b\b\b\b\b\b\b\b\b\b\b\b\b\b\b\b\b\b\b\b\b\b\b\b\b\b\b\b\b\b\b\b\b\b\b\b\b\b\b\b\b\b\b\b\b\b\b\b\b\b\b\b\b\b\b\b\b\b\b\b\r\u001b[1m1082/1082\u001b[0m \u001b[32m━━━━━━━━━━━━━━━━━━━━\u001b[0m\u001b[37m\u001b[0m \u001b[1m5s\u001b[0m 4ms/step - accuracy: 0.9399 - loss: 0.1524 - val_accuracy: 0.9754 - val_loss: 0.0787\n",
            "Epoch 26/30\n",
            "\u001b[1m1082/1082\u001b[0m \u001b[32m━━━━━━━━━━━━━━━━━━━━\u001b[0m\u001b[37m\u001b[0m \u001b[1m5s\u001b[0m 4ms/step - accuracy: 0.9432 - loss: 0.1500 - val_accuracy: 0.9778 - val_loss: 0.0792\n",
            "Epoch 27/30\n",
            "\u001b[1m1077/1082\u001b[0m \u001b[32m━━━━━━━━━━━━━━━━━━━\u001b[0m\u001b[37m━\u001b[0m \u001b[1m0s\u001b[0m 5ms/step - accuracy: 0.9449 - loss: 0.1446"
          ]
        },
        {
          "output_type": "stream",
          "name": "stderr",
          "text": [
            "WARNING:absl:You are saving your model as an HDF5 file via `model.save()` or `keras.saving.save_model(model)`. This file format is considered legacy. We recommend using instead the native Keras format, e.g. `model.save('my_model.keras')` or `keras.saving.save_model(model, 'my_model.keras')`. \n"
          ]
        },
        {
          "output_type": "stream",
          "name": "stdout",
          "text": [
            "\b\b\b\b\b\b\b\b\b\b\b\b\b\b\b\b\b\b\b\b\b\b\b\b\b\b\b\b\b\b\b\b\b\b\b\b\b\b\b\b\b\b\b\b\b\b\b\b\b\b\b\b\b\b\b\b\b\b\b\b\b\b\b\b\b\b\b\b\b\b\b\b\b\b\b\b\r\u001b[1m1082/1082\u001b[0m \u001b[32m━━━━━━━━━━━━━━━━━━━━\u001b[0m\u001b[37m\u001b[0m \u001b[1m6s\u001b[0m 5ms/step - accuracy: 0.9449 - loss: 0.1446 - val_accuracy: 0.9779 - val_loss: 0.0745\n",
            "Epoch 28/30\n",
            "\u001b[1m1082/1082\u001b[0m \u001b[32m━━━━━━━━━━━━━━━━━━━━\u001b[0m\u001b[37m\u001b[0m \u001b[1m5s\u001b[0m 4ms/step - accuracy: 0.9381 - loss: 0.1534 - val_accuracy: 0.9776 - val_loss: 0.0750\n",
            "Epoch 29/30\n",
            "\u001b[1m1073/1082\u001b[0m \u001b[32m━━━━━━━━━━━━━━━━━━━\u001b[0m\u001b[37m━\u001b[0m \u001b[1m0s\u001b[0m 4ms/step - accuracy: 0.9450 - loss: 0.1435"
          ]
        },
        {
          "output_type": "stream",
          "name": "stderr",
          "text": [
            "WARNING:absl:You are saving your model as an HDF5 file via `model.save()` or `keras.saving.save_model(model)`. This file format is considered legacy. We recommend using instead the native Keras format, e.g. `model.save('my_model.keras')` or `keras.saving.save_model(model, 'my_model.keras')`. \n"
          ]
        },
        {
          "output_type": "stream",
          "name": "stdout",
          "text": [
            "\b\b\b\b\b\b\b\b\b\b\b\b\b\b\b\b\b\b\b\b\b\b\b\b\b\b\b\b\b\b\b\b\b\b\b\b\b\b\b\b\b\b\b\b\b\b\b\b\b\b\b\b\b\b\b\b\b\b\b\b\b\b\b\b\b\b\b\b\b\b\b\b\b\b\b\b\r\u001b[1m1082/1082\u001b[0m \u001b[32m━━━━━━━━━━━━━━━━━━━━\u001b[0m\u001b[37m\u001b[0m \u001b[1m6s\u001b[0m 6ms/step - accuracy: 0.9450 - loss: 0.1435 - val_accuracy: 0.9792 - val_loss: 0.0714\n",
            "Epoch 30/30\n",
            "\u001b[1m1074/1082\u001b[0m \u001b[32m━━━━━━━━━━━━━━━━━━━\u001b[0m\u001b[37m━\u001b[0m \u001b[1m0s\u001b[0m 4ms/step - accuracy: 0.9410 - loss: 0.1487"
          ]
        },
        {
          "output_type": "stream",
          "name": "stderr",
          "text": [
            "WARNING:absl:You are saving your model as an HDF5 file via `model.save()` or `keras.saving.save_model(model)`. This file format is considered legacy. We recommend using instead the native Keras format, e.g. `model.save('my_model.keras')` or `keras.saving.save_model(model, 'my_model.keras')`. \n"
          ]
        },
        {
          "output_type": "stream",
          "name": "stdout",
          "text": [
            "\b\b\b\b\b\b\b\b\b\b\b\b\b\b\b\b\b\b\b\b\b\b\b\b\b\b\b\b\b\b\b\b\b\b\b\b\b\b\b\b\b\b\b\b\b\b\b\b\b\b\b\b\b\b\b\b\b\b\b\b\b\b\b\b\b\b\b\b\b\b\b\b\b\b\b\b\r\u001b[1m1082/1082\u001b[0m \u001b[32m━━━━━━━━━━━━━━━━━━━━\u001b[0m\u001b[37m\u001b[0m \u001b[1m9s\u001b[0m 4ms/step - accuracy: 0.9411 - loss: 0.1487 - val_accuracy: 0.9785 - val_loss: 0.0679\n"
          ]
        },
        {
          "output_type": "stream",
          "name": "stderr",
          "text": [
            "WARNING:absl:Compiled the loaded model, but the compiled metrics have yet to be built. `model.compile_metrics` will be empty until you train or evaluate the model.\n"
          ]
        },
        {
          "output_type": "stream",
          "name": "stdout",
          "text": [
            "\u001b[1m271/271\u001b[0m \u001b[32m━━━━━━━━━━━━━━━━━━━━\u001b[0m\u001b[37m\u001b[0m \u001b[1m1s\u001b[0m 3ms/step - accuracy: 0.9787 - loss: 0.0634\n",
            "🎯 Optimized ANN Test Accuracy: 97.85%\n"
          ]
        }
      ]
    },
    {
      "cell_type": "code",
      "source": [
        "# Import missing libraries\n",
        "import joblib\n",
        "from xgboost import XGBClassifier\n",
        "from sklearn.metrics import accuracy_score, confusion_matrix\n",
        "from scipy.stats import ttest_rel\n",
        "from statsmodels.stats.contingency_tables import mcnemar\n",
        "\n",
        "# Load or train XGBoost model\n",
        "try:\n",
        "    xgb_best = joblib.load(\"xgboost_best_model.pkl\")  # ✅ Try to load the trained model\n",
        "    print(\"✅ Loaded saved XGBoost model.\")\n",
        "except FileNotFoundError:\n",
        "    print(\"⚠ No saved model found. Training a new XGBoost model...\")\n",
        "    xgb_best = XGBClassifier(learning_rate=0.2, max_depth=7, n_estimators=200)\n",
        "    xgb_best.fit(X_train, y_train)\n",
        "\n",
        "# Print the best hyperparameters found for ANN\n",
        "print(\"\\n🔍 Best ANN Hyperparameters:\")\n",
        "print(best_hps.values)\n",
        "\n",
        "# Evaluate XGBoost model\n",
        "xgb_test_acc = accuracy_score(y_test, xgb_best.predict(X_test))\n",
        "print(f\"\\n🎯 Optimized XGBoost Test Accuracy: {xgb_test_acc * 100:.2f}%\")\n",
        "\n",
        "# Evaluate ANN model\n",
        "ann_loss, ann_accuracy = best_ann.evaluate(X_test, y_test, verbose=0)\n",
        "print(f\"\\n🤖 Optimized ANN Test Accuracy: {ann_accuracy * 100:.2f}%\")\n",
        "\n",
        "# McNemar’s Test\n",
        "conf_matrix = confusion_matrix(xgb_best.predict(X_test), (best_ann.predict(X_test) > 0.5).astype(\"int32\").flatten())\n",
        "mcnemar_test = mcnemar(conf_matrix, exact=False)\n",
        "print(f\"\\n📊 McNemar’s Test P-value: {mcnemar_test.pvalue:.5f} (Significant if p < 0.05)\")\n",
        "\n",
        "# Paired t-test\n",
        "t_stat, p_value = ttest_rel(xgb_best.predict(X_test), (best_ann.predict(X_test) > 0.5).astype(\"int32\").flatten())\n",
        "print(f\"\\n📊 Paired t-test: t={t_stat:.3f}, p={p_value:.5f} (Significant if p < 0.05)\")\n"
      ],
      "metadata": {
        "colab": {
          "base_uri": "https://localhost:8080/"
        },
        "id": "wd5L6GK81Xi-",
        "outputId": "a0630f92-91fc-49b9-ab2f-6e698e2349cf"
      },
      "execution_count": null,
      "outputs": [
        {
          "output_type": "stream",
          "name": "stdout",
          "text": [
            "⚠ No saved model found. Training a new XGBoost model...\n",
            "\n",
            "🔍 Best ANN Hyperparameters:\n",
            "{'units1': 256, 'dropout1': 0.4, 'num_layers': 3, 'units2': 160, 'dropout2': 0.30000000000000004, 'learning_rate': 0.001, 'units3': 224, 'dropout3': 0.4, 'units4': 64, 'dropout4': 0.2}\n",
            "\n",
            "🎯 Optimized XGBoost Test Accuracy: 99.83%\n",
            "\n",
            "🤖 Optimized ANN Test Accuracy: 97.85%\n",
            "\u001b[1m271/271\u001b[0m \u001b[32m━━━━━━━━━━━━━━━━━━━━\u001b[0m\u001b[37m\u001b[0m \u001b[1m1s\u001b[0m 4ms/step\n",
            "\n",
            "📊 McNemar’s Test P-value: 0.00101 (Significant if p < 0.05)\n",
            "\u001b[1m271/271\u001b[0m \u001b[32m━━━━━━━━━━━━━━━━━━━━\u001b[0m\u001b[37m\u001b[0m \u001b[1m0s\u001b[0m 2ms/step\n",
            "\n",
            "📊 Paired t-test: t=-3.365, p=0.00077 (Significant if p < 0.05)\n"
          ]
        }
      ]
    },
    {
      "cell_type": "code",
      "source": [
        "import joblib\n",
        "joblib.dump(xgb_best, \"xgboost_best_model.pkl\")\n",
        "print(\"✅ XGBoost Model Saved!\")\n"
      ],
      "metadata": {
        "colab": {
          "base_uri": "https://localhost:8080/"
        },
        "id": "avW_2Er96KAU",
        "outputId": "e2d7f776-7982-4728-8b91-efb8f97504b9"
      },
      "execution_count": null,
      "outputs": [
        {
          "output_type": "stream",
          "name": "stdout",
          "text": [
            "✅ XGBoost Model Saved!\n"
          ]
        }
      ]
    },
    {
      "cell_type": "code",
      "source": [
        "import matplotlib.pyplot as plt\n",
        "\n",
        "# Bar chart comparison\n",
        "models = [\"XGBoost\", \"ANN\"]\n",
        "accuracies = [99.83, 97.85]\n",
        "\n",
        "plt.figure(figsize=(6,4))\n",
        "plt.bar(models, accuracies, color=[\"blue\", \"orange\"])\n",
        "plt.xlabel(\"Model\")\n",
        "plt.ylabel(\"Accuracy (%)\")\n",
        "plt.title(\"Model Performance Comparison\")\n",
        "plt.ylim(95, 100)\n",
        "plt.show()\n"
      ],
      "metadata": {
        "colab": {
          "base_uri": "https://localhost:8080/",
          "height": 410
        },
        "id": "skOcpbow6MDi",
        "outputId": "99cc9452-a127-42dd-a0cc-7b28694e559b"
      },
      "execution_count": null,
      "outputs": [
        {
          "output_type": "display_data",
          "data": {
            "text/plain": [
              "<Figure size 600x400 with 1 Axes>"
            ],
            "image/png": "[encoded data removed]"
          },
          "metadata": {}
        }
      ]
    },
    {
      "cell_type": "code",
      "source": [
        "import shap\n",
        "import matplotlib.pyplot as plt\n",
        "\n",
        "# Create SHAP Explainer\n",
        "explainer = shap.Explainer(xgb_best)\n",
        "shap_values = explainer(X_test)\n",
        "\n",
        "# Summary plot to visualize feature importance\n",
        "shap.summary_plot(shap_values, X_test)\n"
      ],
      "metadata": {
        "colab": {
          "base_uri": "https://localhost:8080/",
          "height": 557
        },
        "id": "UtheLtcf6wM2",
        "outputId": "95f4268d-bd2f-4b09-a480-9a2c5bea9779"
      },
      "execution_count": null,
      "outputs": [
        {
          "output_type": "display_data",
          "data": {
            "text/plain": [
              "<Figure size 800x550 with 2 Axes>"
            ],
            "image/png": "[encoded data removed]"
          },
          "metadata": {}
        }
      ]
    },
    {
      "cell_type": "code",
      "source": [
        "import tensorflow as tf\n",
        "from tensorflow.keras import layers, models\n",
        "\n",
        "# Reshape data for Conv1D (Adding a channel dimension)\n",
        "X_train_cnn = X_train.reshape(-1, X_train.shape[1], 1)\n",
        "X_test_cnn = X_test.reshape(-1, X_test.shape[1], 1)\n",
        "\n",
        "# CNN Model Definition (Using Conv1D Instead of Conv2D)\n",
        "cnn_model = models.Sequential([\n",
        "    layers.Conv1D(32, kernel_size=3, activation='relu', input_shape=(X_train.shape[1], 1)),\n",
        "    layers.MaxPooling1D(pool_size=2),\n",
        "    layers.Conv1D(64, kernel_size=3, activation='relu'),\n",
        "    layers.MaxPooling1D(pool_size=2),\n",
        "    layers.Flatten(),\n",
        "    layers.Dense(128, activation='relu'),\n",
        "    layers.Dense(1, activation='sigmoid')  # For binary classification\n",
        "])\n",
        "\n",
        "# Compile Model\n",
        "cnn_model.compile(optimizer='adam', loss='binary_crossentropy', metrics=['accuracy'])\n",
        "\n",
        "# Train CNN\n",
        "cnn_model.fit(X_train_cnn, y_train, epochs=10, validation_data=(X_test_cnn, y_test))\n",
        "\n",
        "# Evaluate CNN\n",
        "cnn_test_acc = cnn_model.evaluate(X_test_cnn, y_test, verbose=0)[1]\n",
        "print(f\"\\n🧠 CNN Test Accuracy: {cnn_test_acc * 100:.2f}%\")\n"
      ],
      "metadata": {
        "colab": {
          "base_uri": "https://localhost:8080/"
        },
        "id": "IChgIPUT602o",
        "outputId": "d4090fc9-6e37-4d87-fddb-24a0b112b898"
      },
      "execution_count": null,
      "outputs": [
        {
          "output_type": "stream",
          "name": "stdout",
          "text": [
            "Epoch 1/10\n",
            "\u001b[1m1082/1082\u001b[0m \u001b[32m━━━━━━━━━━━━━━━━━━━━\u001b[0m\u001b[37m\u001b[0m \u001b[1m12s\u001b[0m 8ms/step - accuracy: 0.6938 - loss: 0.5688 - val_accuracy: 0.8049 - val_loss: 0.4216\n",
            "Epoch 2/10\n",
            "\u001b[1m1082/1082\u001b[0m \u001b[32m━━━━━━━━━━━━━━━━━━━━\u001b[0m\u001b[37m\u001b[0m \u001b[1m7s\u001b[0m 7ms/step - accuracy: 0.8120 - loss: 0.4051 - val_accuracy: 0.8749 - val_loss: 0.3211\n",
            "Epoch 3/10\n",
            "\u001b[1m1082/1082\u001b[0m \u001b[32m━━━━━━━━━━━━━━━━━━━━\u001b[0m\u001b[37m\u001b[0m \u001b[1m8s\u001b[0m 8ms/step - accuracy: 0.8578 - loss: 0.3228 - val_accuracy: 0.8921 - val_loss: 0.2682\n",
            "Epoch 4/10\n",
            "\u001b[1m1082/1082\u001b[0m \u001b[32m━━━━━━━━━━━━━━━━━━━━\u001b[0m\u001b[37m\u001b[0m \u001b[1m5s\u001b[0m 3ms/step - accuracy: 0.8961 - loss: 0.2522 - val_accuracy: 0.9340 - val_loss: 0.2160\n",
            "Epoch 5/10\n",
            "\u001b[1m1082/1082\u001b[0m \u001b[32m━━━━━━━━━━━━━━━━━━━━\u001b[0m\u001b[37m\u001b[0m \u001b[1m4s\u001b[0m 4ms/step - accuracy: 0.9247 - loss: 0.1992 - val_accuracy: 0.9380 - val_loss: 0.1893\n",
            "Epoch 6/10\n",
            "\u001b[1m1082/1082\u001b[0m \u001b[32m━━━━━━━━━━━━━━━━━━━━\u001b[0m\u001b[37m\u001b[0m \u001b[1m4s\u001b[0m 3ms/step - accuracy: 0.9388 - loss: 0.1732 - val_accuracy: 0.9235 - val_loss: 0.1909\n",
            "Epoch 7/10\n",
            "\u001b[1m1082/1082\u001b[0m \u001b[32m━━━━━━━━━━━━━━━━━━━━\u001b[0m\u001b[37m\u001b[0m \u001b[1m6s\u001b[0m 5ms/step - accuracy: 0.9522 - loss: 0.1403 - val_accuracy: 0.9575 - val_loss: 0.1317\n",
            "Epoch 8/10\n",
            "\u001b[1m1082/1082\u001b[0m \u001b[32m━━━━━━━━━━━━━━━━━━━━\u001b[0m\u001b[37m\u001b[0m \u001b[1m10s\u001b[0m 5ms/step - accuracy: 0.9584 - loss: 0.1281 - val_accuracy: 0.9628 - val_loss: 0.1157\n",
            "Epoch 9/10\n",
            "\u001b[1m1082/1082\u001b[0m \u001b[32m━━━━━━━━━━━━━━━━━━━━\u001b[0m\u001b[37m\u001b[0m \u001b[1m8s\u001b[0m 3ms/step - accuracy: 0.9635 - loss: 0.1119 - val_accuracy: 0.9705 - val_loss: 0.1094\n",
            "Epoch 10/10\n",
            "\u001b[1m1082/1082\u001b[0m \u001b[32m━━━━━━━━━━━━━━━━━━━━\u001b[0m\u001b[37m\u001b[0m \u001b[1m5s\u001b[0m 3ms/step - accuracy: 0.9719 - loss: 0.0932 - val_accuracy: 0.9577 - val_loss: 0.1334\n",
            "\n",
            "🧠 CNN Test Accuracy: 95.77%\n"
          ]
        }
      ]
    },
    {
      "cell_type": "code",
      "source": [
        "import joblib\n",
        "joblib.dump(xgb_best, \"xgboost_best_model.pkl\")\n",
        "print(\"✅ XGBoost Model Saved!\")\n"
      ],
      "metadata": {
        "colab": {
          "base_uri": "https://localhost:8080/"
        },
        "id": "bkTVQD107ZHB",
        "outputId": "41a728b2-81ea-4bac-c899-8de4adf97e46"
      },
      "execution_count": null,
      "outputs": [
        {
          "output_type": "stream",
          "name": "stdout",
          "text": [
            "✅ XGBoost Model Saved!\n"
          ]
        }
      ]
    }
  ]
}